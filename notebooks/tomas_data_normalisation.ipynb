{
  "cells": [
    {
      "cell_type": "code",
      "execution_count": 1,
      "metadata": {
        "id": "muvOr1L7fpa7"
      },
      "outputs": [],
      "source": [
        "import pandas as pd\n",
        "import seaborn as sns\n",
        "import matplotlib.pyplot as plt\n",
        "import numpy as np\n",
        "import os\n",
        "\n",
        "from sklearn.preprocessing import RobustScaler, StandardScaler, OneHotEncoder, OrdinalEncoder, LabelEncoder, MinMaxScaler\n",
        "from sklearn.model_selection import train_test_split\n"
      ]
    },
    {
      "cell_type": "code",
      "execution_count": 2,
      "metadata": {
        "id": "7WyytjV7q0tV"
      },
      "outputs": [],
      "source": [
        "#merged_df = pd.read_csv('/content/gdrive/MyDrive/all_merged_12_06 (1).csv')\n",
        "merged_df = pd.read_csv('../data/all_merged_12_06.csv')"
      ]
    },
    {
      "cell_type": "code",
      "execution_count": 3,
      "metadata": {
        "colab": {
          "base_uri": "https://localhost:8080/"
        },
        "id": "h7lQ_z_ytacT",
        "outputId": "839a59ae-616a-426f-9774-940ff76cebe5"
      },
      "outputs": [
        {
          "data": {
            "text/plain": [
              "(3093231, 12)"
            ]
          },
          "execution_count": 3,
          "metadata": {},
          "output_type": "execute_result"
        }
      ],
      "source": [
        "merged_df.shape"
      ]
    },
    {
      "cell_type": "code",
      "execution_count": 4,
      "metadata": {
        "colab": {
          "base_uri": "https://localhost:8080/",
          "height": 206
        },
        "id": "hP0HFghSfpa-",
        "outputId": "0bf0dfff-908b-4a5f-bdca-18cda045d782"
      },
      "outputs": [
        {
          "data": {
            "text/html": [
              "<div>\n",
              "<style scoped>\n",
              "    .dataframe tbody tr th:only-of-type {\n",
              "        vertical-align: middle;\n",
              "    }\n",
              "\n",
              "    .dataframe tbody tr th {\n",
              "        vertical-align: top;\n",
              "    }\n",
              "\n",
              "    .dataframe thead th {\n",
              "        text-align: right;\n",
              "    }\n",
              "</style>\n",
              "<table border=\"1\" class=\"dataframe\">\n",
              "  <thead>\n",
              "    <tr style=\"text-align: right;\">\n",
              "      <th></th>\n",
              "      <th>lon</th>\n",
              "      <th>lat</th>\n",
              "      <th>year</th>\n",
              "      <th>month</th>\n",
              "      <th>burned_area</th>\n",
              "      <th>burnable_frac</th>\n",
              "      <th>temperature</th>\n",
              "      <th>precipitation</th>\n",
              "      <th>dry_days</th>\n",
              "      <th>land_cover</th>\n",
              "      <th>country</th>\n",
              "    </tr>\n",
              "  </thead>\n",
              "  <tbody>\n",
              "    <tr>\n",
              "      <th>0</th>\n",
              "      <td>-8.5</td>\n",
              "      <td>33.0</td>\n",
              "      <td>2001</td>\n",
              "      <td>1</td>\n",
              "      <td>0</td>\n",
              "      <td>0.51679</td>\n",
              "      <td>14.0</td>\n",
              "      <td>48.8</td>\n",
              "      <td>115.35</td>\n",
              "      <td>200</td>\n",
              "      <td>Maroc / ⵍⵎⵖⵔⵉⴱ / المغرب</td>\n",
              "    </tr>\n",
              "    <tr>\n",
              "      <th>1</th>\n",
              "      <td>-8.5</td>\n",
              "      <td>33.0</td>\n",
              "      <td>2001</td>\n",
              "      <td>2</td>\n",
              "      <td>0</td>\n",
              "      <td>0.51679</td>\n",
              "      <td>14.6</td>\n",
              "      <td>8.2</td>\n",
              "      <td>115.35</td>\n",
              "      <td>200</td>\n",
              "      <td>Maroc / ⵍⵎⵖⵔⵉⴱ / المغرب</td>\n",
              "    </tr>\n",
              "    <tr>\n",
              "      <th>2</th>\n",
              "      <td>-8.5</td>\n",
              "      <td>33.0</td>\n",
              "      <td>2001</td>\n",
              "      <td>3</td>\n",
              "      <td>0</td>\n",
              "      <td>0.51679</td>\n",
              "      <td>17.5</td>\n",
              "      <td>24.7</td>\n",
              "      <td>115.35</td>\n",
              "      <td>200</td>\n",
              "      <td>Maroc / ⵍⵎⵖⵔⵉⴱ / المغرب</td>\n",
              "    </tr>\n",
              "    <tr>\n",
              "      <th>3</th>\n",
              "      <td>-8.5</td>\n",
              "      <td>33.0</td>\n",
              "      <td>2001</td>\n",
              "      <td>4</td>\n",
              "      <td>0</td>\n",
              "      <td>0.51679</td>\n",
              "      <td>18.0</td>\n",
              "      <td>0.7</td>\n",
              "      <td>115.35</td>\n",
              "      <td>200</td>\n",
              "      <td>Maroc / ⵍⵎⵖⵔⵉⴱ / المغرب</td>\n",
              "    </tr>\n",
              "    <tr>\n",
              "      <th>4</th>\n",
              "      <td>-8.5</td>\n",
              "      <td>33.0</td>\n",
              "      <td>2001</td>\n",
              "      <td>5</td>\n",
              "      <td>0</td>\n",
              "      <td>0.51679</td>\n",
              "      <td>19.0</td>\n",
              "      <td>8.2</td>\n",
              "      <td>115.35</td>\n",
              "      <td>200</td>\n",
              "      <td>Maroc / ⵍⵎⵖⵔⵉⴱ / المغرب</td>\n",
              "    </tr>\n",
              "  </tbody>\n",
              "</table>\n",
              "</div>"
            ],
            "text/plain": [
              "   lon   lat  year  month  burned_area  burnable_frac  temperature  \\\n",
              "0 -8.5  33.0  2001      1            0        0.51679         14.0   \n",
              "1 -8.5  33.0  2001      2            0        0.51679         14.6   \n",
              "2 -8.5  33.0  2001      3            0        0.51679         17.5   \n",
              "3 -8.5  33.0  2001      4            0        0.51679         18.0   \n",
              "4 -8.5  33.0  2001      5            0        0.51679         19.0   \n",
              "\n",
              "   precipitation  dry_days  land_cover                  country  \n",
              "0           48.8    115.35         200  Maroc / ⵍⵎⵖⵔⵉⴱ / المغرب  \n",
              "1            8.2    115.35         200  Maroc / ⵍⵎⵖⵔⵉⴱ / المغرب  \n",
              "2           24.7    115.35         200  Maroc / ⵍⵎⵖⵔⵉⴱ / المغرب  \n",
              "3            0.7    115.35         200  Maroc / ⵍⵎⵖⵔⵉⴱ / المغرب  \n",
              "4            8.2    115.35         200  Maroc / ⵍⵎⵖⵔⵉⴱ / المغرب  "
            ]
          },
          "execution_count": 4,
          "metadata": {},
          "output_type": "execute_result"
        }
      ],
      "source": [
        "merged_df = merged_df.drop('Unnamed: 0', axis = 1)\n",
        "merged_df.head()"
      ]
    },
    {
      "cell_type": "code",
      "execution_count": 5,
      "metadata": {
        "colab": {
          "base_uri": "https://localhost:8080/"
        },
        "id": "KLgV7JNRsvIP",
        "outputId": "b80e63c0-8d6d-4161-8a8b-8a854047d6e4"
      },
      "outputs": [
        {
          "data": {
            "text/plain": [
              "46"
            ]
          },
          "execution_count": 5,
          "metadata": {},
          "output_type": "execute_result"
        }
      ],
      "source": [
        "merged_df['country'].nunique()"
      ]
    },
    {
      "cell_type": "code",
      "execution_count": 6,
      "metadata": {
        "colab": {
          "base_uri": "https://localhost:8080/"
        },
        "id": "ShF2unGMfpa_",
        "outputId": "f1bfc29c-b330-4f9f-ac53-00123bcae475"
      },
      "outputs": [
        {
          "data": {
            "text/plain": [
              "(3093231, 11)"
            ]
          },
          "execution_count": 6,
          "metadata": {},
          "output_type": "execute_result"
        }
      ],
      "source": [
        "merged_df.shape"
      ]
    },
    {
      "cell_type": "code",
      "execution_count": 7,
      "metadata": {
        "colab": {
          "base_uri": "https://localhost:8080/"
        },
        "id": "zXXfNLXbfpa_",
        "outputId": "9a926311-652b-417a-c9b2-5a32793b85f0"
      },
      "outputs": [
        {
          "data": {
            "text/plain": [
              "lon                   0\n",
              "lat                   0\n",
              "year                  0\n",
              "month                 0\n",
              "burned_area           0\n",
              "burnable_frac         0\n",
              "temperature       81493\n",
              "precipitation     81493\n",
              "dry_days         476933\n",
              "land_cover            0\n",
              "country               0\n",
              "dtype: int64"
            ]
          },
          "execution_count": 7,
          "metadata": {},
          "output_type": "execute_result"
        }
      ],
      "source": [
        "merged_df.isna().sum()"
      ]
    },
    {
      "attachments": {},
      "cell_type": "markdown",
      "metadata": {
        "id": "LzT1oQiJfpbA"
      },
      "source": [
        "1. dataset will require some rebalancing"
      ]
    },
    {
      "attachments": {},
      "cell_type": "markdown",
      "metadata": {
        "id": "K8zrTJQXfpbB"
      },
      "source": [
        "# Splitting the data"
      ]
    },
    {
      "cell_type": "code",
      "execution_count": 8,
      "metadata": {
        "id": "YQK_GNMafpbB"
      },
      "outputs": [],
      "source": [
        "train, test = train_test_split(merged_df, test_size=0.3, random_state=42)"
      ]
    },
    {
      "cell_type": "code",
      "execution_count": 9,
      "metadata": {
        "colab": {
          "base_uri": "https://localhost:8080/"
        },
        "id": "1Rfi8QPefpbC",
        "outputId": "6171384c-f870-4fa2-869d-01c0952b7a02"
      },
      "outputs": [
        {
          "name": "stdout",
          "output_type": "stream",
          "text": [
            "X_test:  (927970, 10)\n",
            "y_test:  (927970,)\n"
          ]
        }
      ],
      "source": [
        "X_test = test.drop('burned_area', axis=1)\n",
        "y_test = test['burned_area']\n",
        "\n",
        "print('X_test: ', X_test.shape)\n",
        "print('y_test: ', y_test.shape)"
      ]
    },
    {
      "attachments": {},
      "cell_type": "markdown",
      "metadata": {},
      "source": [
        "# Filling, balancing and splitting train set was run on google colab"
      ]
    },
    {
      "attachments": {},
      "cell_type": "markdown",
      "metadata": {
        "id": "eYWZlOUPfpbC"
      },
      "source": [
        "## Filling and dropping NAs"
      ]
    },
    {
      "cell_type": "code",
      "execution_count": 10,
      "metadata": {
        "colab": {
          "base_uri": "https://localhost:8080/"
        },
        "id": "DIthRvgMfpbC",
        "outputId": "de4e5427-5a36-4c79-af97-9eb0ef05ab82"
      },
      "outputs": [],
      "source": [
        "#train.isna().sum()"
      ]
    },
    {
      "cell_type": "code",
      "execution_count": 11,
      "metadata": {
        "colab": {
          "base_uri": "https://localhost:8080/"
        },
        "id": "5GGVK2wIfpbD",
        "outputId": "8d9d0f6e-152e-464e-e09b-73571d182f10"
      },
      "outputs": [],
      "source": [
        "#train['dry_days'] = train.groupby('month')['dry_days'].transform(lambda x: x.fillna(x.median()))\n",
        "#train = train.dropna()\n",
        "#\n",
        "#print('X_test: ', train.shape)\n",
        "#print('y_test: ', train.shape)"
      ]
    },
    {
      "cell_type": "code",
      "execution_count": 12,
      "metadata": {
        "colab": {
          "base_uri": "https://localhost:8080/"
        },
        "id": "qrnM0e58fpbD",
        "outputId": "9b0312ab-ff8c-42e5-e9c2-aca6b7b99734"
      },
      "outputs": [
        {
          "data": {
            "text/plain": [
              "lon                   0\n",
              "lat                   0\n",
              "year                  0\n",
              "month                 0\n",
              "burned_area           0\n",
              "burnable_frac         0\n",
              "temperature       57238\n",
              "precipitation     57238\n",
              "dry_days         333753\n",
              "land_cover            0\n",
              "country               0\n",
              "dtype: int64"
            ]
          },
          "execution_count": 12,
          "metadata": {},
          "output_type": "execute_result"
        }
      ],
      "source": [
        "train.isna().sum()"
      ]
    },
    {
      "cell_type": "code",
      "execution_count": 13,
      "metadata": {
        "colab": {
          "base_uri": "https://localhost:8080/"
        },
        "id": "aq__RN6JfpbD",
        "outputId": "5bdf0295-b9ec-4c1c-8273-5d80c409038e"
      },
      "outputs": [],
      "source": [
        "#X_train = train.drop('burned_area', axis=1)\n",
        "#y_train = train['burned_area']\n",
        "#\n",
        "#print('X_train: ', X_train.shape)\n",
        "#print('y_train: ', y_train.shape)"
      ]
    },
    {
      "attachments": {},
      "cell_type": "markdown",
      "metadata": {
        "id": "ip8SJB0WfpbD"
      },
      "source": [
        "## Balancing the data"
      ]
    },
    {
      "cell_type": "code",
      "execution_count": 14,
      "metadata": {
        "colab": {
          "base_uri": "https://localhost:8080/",
          "height": 425
        },
        "id": "SWHjHpTMfpbE",
        "outputId": "e8e82b5e-4314-4e70-89ca-2fec9a6e6cbf"
      },
      "outputs": [],
      "source": [
        "#fig, (ax1, ax2) = plt.subplots(1, 2, figsize=(15, 5))\n",
        "#\n",
        "#sns.histplot(merged_df['burnable_frac'], ax=ax1)\n",
        "#sns.histplot(merged_df['burned_area'], ax=ax2);"
      ]
    },
    {
      "cell_type": "code",
      "execution_count": 15,
      "metadata": {
        "colab": {
          "base_uri": "https://localhost:8080/",
          "height": 143
        },
        "id": "Vy4WPIcrfpbE",
        "outputId": "6a50717a-b7a0-4c61-bf0c-7bf4c1a73d69"
      },
      "outputs": [],
      "source": [
        "#X_train.head(3)"
      ]
    },
    {
      "cell_type": "code",
      "execution_count": 16,
      "metadata": {
        "colab": {
          "base_uri": "https://localhost:8080/"
        },
        "id": "esPsJc7DfpbE",
        "outputId": "28969185-5131-4360-c02d-a1813c7fc205"
      },
      "outputs": [],
      "source": [
        "#from imblearn.over_sampling import SMOTENC\n",
        "#smote_nc = SMOTENC(categorical_features=[8, 9], random_state=42, n_jobs = -1)\n",
        "#X_resampled, y_resampled = smote_nc.fit_resample(X_train, y_train)"
      ]
    },
    {
      "cell_type": "code",
      "execution_count": 17,
      "metadata": {
        "colab": {
          "base_uri": "https://localhost:8080/"
        },
        "id": "M9kfT-TAyKf5",
        "outputId": "b6064827-f1d3-400f-bd94-f61815eaa7c1"
      },
      "outputs": [],
      "source": [
        "#print('X_resampled: ', X_resampled.shape)\n",
        "#print('y_resampled: ', y_resampled.shape)"
      ]
    },
    {
      "cell_type": "code",
      "execution_count": 18,
      "metadata": {
        "id": "39ifl-ruwGOT"
      },
      "outputs": [],
      "source": [
        "#X_resampled.to_csv('/content/gdrive/MyDrive/X_resampled.csv')\n",
        "#y_resampled.to_csv('/content/gdrive/MyDrive/y_resampled.csv')"
      ]
    },
    {
      "cell_type": "code",
      "execution_count": 19,
      "metadata": {
        "colab": {
          "base_uri": "https://localhost:8080/",
          "height": 414
        },
        "id": "8bvZTa5YrYrR",
        "outputId": "b1c261d1-62c0-40d2-eed0-1dd0ac481fdc"
      },
      "outputs": [],
      "source": [
        "#fig, (ax1, ax2) = plt.subplots(1, 2, figsize=(15, 5))\n",
        "#\n",
        "#sns.histplot(X_resampled['burnable_frac'], ax=ax1)\n",
        "#sns.histplot(y_resampled, ax=ax2);"
      ]
    },
    {
      "attachments": {},
      "cell_type": "markdown",
      "metadata": {
        "id": "ikz_o-WRfpbE"
      },
      "source": [
        "# Normalisation"
      ]
    },
    {
      "cell_type": "code",
      "execution_count": 20,
      "metadata": {},
      "outputs": [],
      "source": [
        "X_train = pd.read_csv('../data/X_resampled.csv')\n",
        "y_train = pd.read_csv('../data/y_resampled.csv')"
      ]
    },
    {
      "cell_type": "code",
      "execution_count": 21,
      "metadata": {},
      "outputs": [],
      "source": [
        "y_train = y_train['burned_area']\n",
        "X_train = X_train.drop('Unnamed: 0', axis = 1)"
      ]
    },
    {
      "cell_type": "code",
      "execution_count": 22,
      "metadata": {},
      "outputs": [
        {
          "name": "stdout",
          "output_type": "stream",
          "text": [
            "X_train:  (3928822, 10)\n",
            "y_train:  (3928822,)\n"
          ]
        }
      ],
      "source": [
        "print('X_train: ', X_train.shape)\n",
        "print('y_train: ', y_train.shape)"
      ]
    },
    {
      "cell_type": "code",
      "execution_count": 23,
      "metadata": {},
      "outputs": [
        {
          "data": {
            "text/html": [
              "<div>\n",
              "<style scoped>\n",
              "    .dataframe tbody tr th:only-of-type {\n",
              "        vertical-align: middle;\n",
              "    }\n",
              "\n",
              "    .dataframe tbody tr th {\n",
              "        vertical-align: top;\n",
              "    }\n",
              "\n",
              "    .dataframe thead th {\n",
              "        text-align: right;\n",
              "    }\n",
              "</style>\n",
              "<table border=\"1\" class=\"dataframe\">\n",
              "  <thead>\n",
              "    <tr style=\"text-align: right;\">\n",
              "      <th></th>\n",
              "      <th>lon</th>\n",
              "      <th>lat</th>\n",
              "      <th>year</th>\n",
              "      <th>month</th>\n",
              "      <th>burnable_frac</th>\n",
              "      <th>temperature</th>\n",
              "      <th>precipitation</th>\n",
              "      <th>dry_days</th>\n",
              "      <th>land_cover</th>\n",
              "      <th>country</th>\n",
              "    </tr>\n",
              "  </thead>\n",
              "  <tbody>\n",
              "    <tr>\n",
              "      <th>0</th>\n",
              "      <td>49.0</td>\n",
              "      <td>38.00</td>\n",
              "      <td>2008</td>\n",
              "      <td>12</td>\n",
              "      <td>0.585473</td>\n",
              "      <td>-1.5</td>\n",
              "      <td>25.0</td>\n",
              "      <td>40.562500</td>\n",
              "      <td>60</td>\n",
              "      <td>ایران</td>\n",
              "    </tr>\n",
              "    <tr>\n",
              "      <th>1</th>\n",
              "      <td>29.5</td>\n",
              "      <td>50.25</td>\n",
              "      <td>2012</td>\n",
              "      <td>3</td>\n",
              "      <td>0.990091</td>\n",
              "      <td>2.3</td>\n",
              "      <td>33.8</td>\n",
              "      <td>19.075000</td>\n",
              "      <td>10</td>\n",
              "      <td>Україна</td>\n",
              "    </tr>\n",
              "    <tr>\n",
              "      <th>2</th>\n",
              "      <td>15.5</td>\n",
              "      <td>45.50</td>\n",
              "      <td>2007</td>\n",
              "      <td>2</td>\n",
              "      <td>0.998015</td>\n",
              "      <td>4.1</td>\n",
              "      <td>126.4</td>\n",
              "      <td>30.705357</td>\n",
              "      <td>60</td>\n",
              "      <td>Hrvatska</td>\n",
              "    </tr>\n",
              "  </tbody>\n",
              "</table>\n",
              "</div>"
            ],
            "text/plain": [
              "    lon    lat  year  month  burnable_frac  temperature  precipitation  \\\n",
              "0  49.0  38.00  2008     12       0.585473         -1.5           25.0   \n",
              "1  29.5  50.25  2012      3       0.990091          2.3           33.8   \n",
              "2  15.5  45.50  2007      2       0.998015          4.1          126.4   \n",
              "\n",
              "    dry_days  land_cover   country  \n",
              "0  40.562500          60     ایران  \n",
              "1  19.075000          10   Україна  \n",
              "2  30.705357          60  Hrvatska  "
            ]
          },
          "execution_count": 23,
          "metadata": {},
          "output_type": "execute_result"
        }
      ],
      "source": [
        "X_train.head(3)"
      ]
    },
    {
      "attachments": {},
      "cell_type": "markdown",
      "metadata": {
        "id": "H9xvJMulfpbE"
      },
      "source": [
        "## longitude and latitude"
      ]
    },
    {
      "cell_type": "code",
      "execution_count": 24,
      "metadata": {
        "id": "MweZiObEfpbE",
        "outputId": "d1733458-80a7-4b5e-bc5b-1f336563a3d4"
      },
      "outputs": [
        {
          "data": {
            "image/png": "[encoded data removed]",
            "text/plain": [
              "<Figure size 1500x500 with 2 Axes>"
            ]
          },
          "metadata": {},
          "output_type": "display_data"
        }
      ],
      "source": [
        "fig, (ax1, ax2) = plt.subplots(1, 2, figsize=(15, 5))\n",
        "sns.histplot(X_train['lat'], ax= ax1)\n",
        "sns.histplot(X_train['lon'], ax= ax2);"
      ]
    },
    {
      "attachments": {},
      "cell_type": "markdown",
      "metadata": {
        "id": "fVa4xQf2fpbF"
      },
      "source": [
        "the lon and lat columns need normalising but I am not sure what is the best approach.<br />\n",
        "ChatGPT recommended to map longitude and latitude to x and y coordinates -> represents the data in a two-dimensional space\n",
        "\n",
        "x = cos(lat) * cos(lon) <br />\n",
        "y = cos(lat) * sin(lon)"
      ]
    },
    {
      "cell_type": "code",
      "execution_count": 25,
      "metadata": {
        "id": "DxXkpwSofpbF"
      },
      "outputs": [],
      "source": [
        "X_train['x'] = np.cos(X_train['lat']) * np.cos(X_train['lon'])\n",
        "X_train['y'] = np.cos(X_train['lat']) * np.sin(X_train['lon'])\n",
        "X_train = X_train.drop(['lat', 'lon'], axis =1).reset_index(drop = True)"
      ]
    },
    {
      "cell_type": "code",
      "execution_count": 26,
      "metadata": {},
      "outputs": [],
      "source": [
        "X_test['x'] = np.cos(X_test['lat']) * np.cos(X_test['lon'])\n",
        "X_test['y'] = np.cos(X_test['lat']) * np.sin(X_test['lon'])\n",
        "X_test = X_test.drop(['lat', 'lon'], axis =1).reset_index(drop = True)"
      ]
    },
    {
      "cell_type": "code",
      "execution_count": 27,
      "metadata": {
        "id": "P3f3X0V1fpbF",
        "outputId": "2d2aa55f-2017-480d-f427-799f6101fade"
      },
      "outputs": [
        {
          "data": {
            "image/png": "[encoded data removed]",
            "text/plain": [
              "<Figure size 1500x500 with 2 Axes>"
            ]
          },
          "metadata": {},
          "output_type": "display_data"
        }
      ],
      "source": [
        "fig, (ax1, ax2) = plt.subplots(1, 2, figsize=(15, 5))\n",
        "sns.histplot(X_train['x'], ax= ax1)\n",
        "sns.histplot(X_train['y'], ax= ax2);"
      ]
    },
    {
      "attachments": {},
      "cell_type": "markdown",
      "metadata": {
        "id": "fl-hZS0ZfpbF"
      },
      "source": [
        "this seems better, both coordinates have normal distribution"
      ]
    },
    {
      "cell_type": "code",
      "execution_count": 28,
      "metadata": {
        "id": "fkxm2WjNfpbF",
        "outputId": "cd75a041-140b-4241-b576-b9b1acc7fd9d"
      },
      "outputs": [
        {
          "name": "stdout",
          "output_type": "stream",
          "text": [
            "X_train:  (3928822, 10)\n",
            "y_train:  (3928822,)\n",
            "X_test:  (927970, 10)\n",
            "y_test:  (927970,)\n"
          ]
        }
      ],
      "source": [
        "print('X_train: ', X_train.shape)\n",
        "print('y_train: ', y_train.shape)\n",
        "print('X_test: ', X_test.shape)\n",
        "print('y_test: ', y_test.shape)"
      ]
    },
    {
      "attachments": {},
      "cell_type": "markdown",
      "metadata": {
        "id": "hINsvGrJfpbF"
      },
      "source": [
        "## time columns"
      ]
    },
    {
      "cell_type": "code",
      "execution_count": 29,
      "metadata": {
        "id": "iD9Q2TW-56fO"
      },
      "outputs": [
        {
          "data": {
            "text/html": [
              "<div>\n",
              "<style scoped>\n",
              "    .dataframe tbody tr th:only-of-type {\n",
              "        vertical-align: middle;\n",
              "    }\n",
              "\n",
              "    .dataframe tbody tr th {\n",
              "        vertical-align: top;\n",
              "    }\n",
              "\n",
              "    .dataframe thead th {\n",
              "        text-align: right;\n",
              "    }\n",
              "</style>\n",
              "<table border=\"1\" class=\"dataframe\">\n",
              "  <thead>\n",
              "    <tr style=\"text-align: right;\">\n",
              "      <th></th>\n",
              "      <th>year</th>\n",
              "      <th>burnable_frac</th>\n",
              "      <th>temperature</th>\n",
              "      <th>precipitation</th>\n",
              "      <th>dry_days</th>\n",
              "      <th>land_cover</th>\n",
              "      <th>country</th>\n",
              "      <th>x</th>\n",
              "      <th>y</th>\n",
              "      <th>month_sin</th>\n",
              "      <th>month_cos</th>\n",
              "    </tr>\n",
              "  </thead>\n",
              "  <tbody>\n",
              "    <tr>\n",
              "      <th>0</th>\n",
              "      <td>7</td>\n",
              "      <td>0.585473</td>\n",
              "      <td>-1.5</td>\n",
              "      <td>25.0</td>\n",
              "      <td>40.562500</td>\n",
              "      <td>60</td>\n",
              "      <td>ایران</td>\n",
              "      <td>0.287088</td>\n",
              "      <td>-0.910904</td>\n",
              "      <td>-2.449294e-16</td>\n",
              "      <td>1.000000e+00</td>\n",
              "    </tr>\n",
              "    <tr>\n",
              "      <th>1</th>\n",
              "      <td>11</td>\n",
              "      <td>0.990091</td>\n",
              "      <td>2.3</td>\n",
              "      <td>33.8</td>\n",
              "      <td>19.075000</td>\n",
              "      <td>10</td>\n",
              "      <td>Україна</td>\n",
              "      <td>-0.338279</td>\n",
              "      <td>-0.940919</td>\n",
              "      <td>1.000000e+00</td>\n",
              "      <td>6.123234e-17</td>\n",
              "    </tr>\n",
              "    <tr>\n",
              "      <th>2</th>\n",
              "      <td>6</td>\n",
              "      <td>0.998015</td>\n",
              "      <td>4.1</td>\n",
              "      <td>126.4</td>\n",
              "      <td>30.705357</td>\n",
              "      <td>60</td>\n",
              "      <td>Hrvatska</td>\n",
              "      <td>-0.051925</td>\n",
              "      <td>0.010957</td>\n",
              "      <td>8.660254e-01</td>\n",
              "      <td>5.000000e-01</td>\n",
              "    </tr>\n",
              "    <tr>\n",
              "      <th>3</th>\n",
              "      <td>14</td>\n",
              "      <td>0.951067</td>\n",
              "      <td>21.5</td>\n",
              "      <td>68.5</td>\n",
              "      <td>19.975000</td>\n",
              "      <td>10</td>\n",
              "      <td>Україна</td>\n",
              "      <td>-0.271643</td>\n",
              "      <td>-0.128709</td>\n",
              "      <td>1.224647e-16</td>\n",
              "      <td>-1.000000e+00</td>\n",
              "    </tr>\n",
              "    <tr>\n",
              "      <th>4</th>\n",
              "      <td>17</td>\n",
              "      <td>0.995599</td>\n",
              "      <td>19.1</td>\n",
              "      <td>20.7</td>\n",
              "      <td>27.726190</td>\n",
              "      <td>100</td>\n",
              "      <td>España</td>\n",
              "      <td>0.369707</td>\n",
              "      <td>0.152659</td>\n",
              "      <td>-1.000000e+00</td>\n",
              "      <td>-1.836970e-16</td>\n",
              "    </tr>\n",
              "  </tbody>\n",
              "</table>\n",
              "</div>"
            ],
            "text/plain": [
              "   year  burnable_frac  temperature  precipitation   dry_days  land_cover  \\\n",
              "0     7       0.585473         -1.5           25.0  40.562500          60   \n",
              "1    11       0.990091          2.3           33.8  19.075000          10   \n",
              "2     6       0.998015          4.1          126.4  30.705357          60   \n",
              "3    14       0.951067         21.5           68.5  19.975000          10   \n",
              "4    17       0.995599         19.1           20.7  27.726190         100   \n",
              "\n",
              "    country         x         y     month_sin     month_cos  \n",
              "0     ایران  0.287088 -0.910904 -2.449294e-16  1.000000e+00  \n",
              "1   Україна -0.338279 -0.940919  1.000000e+00  6.123234e-17  \n",
              "2  Hrvatska -0.051925  0.010957  8.660254e-01  5.000000e-01  \n",
              "3   Україна -0.271643 -0.128709  1.224647e-16 -1.000000e+00  \n",
              "4    España  0.369707  0.152659 -1.000000e+00 -1.836970e-16  "
            ]
          },
          "execution_count": 29,
          "metadata": {},
          "output_type": "execute_result"
        }
      ],
      "source": [
        "X_train['month_sin'] = np.sin(2 * np.pi * X_train['month'] / 12)\n",
        "X_train['month_cos'] = np.cos(2 * np.pi * X_train['month'] / 12)\n",
        "X_train = X_train.drop('month', axis = 1)\n",
        "X_train['year'] = X_train['year'] - X_train['year'].min()\n",
        "\n",
        "\n",
        "X_test['month_sin'] = np.sin(2 * np.pi * X_test['month'] / 12)\n",
        "X_test['month_cos'] = np.cos(2 * np.pi * X_test['month'] / 12)\n",
        "X_test = X_test.drop('month', axis = 1)\n",
        "X_test['year'] = X_test['year'] - X_test['year'].min()\n",
        "\n",
        "X_train.head()"
      ]
    },
    {
      "attachments": {},
      "cell_type": "markdown",
      "metadata": {
        "id": "cZ7s8UY5fpbG"
      },
      "source": [
        "# climate data"
      ]
    },
    {
      "cell_type": "code",
      "execution_count": 30,
      "metadata": {
        "id": "tiFP4_yWfpbG",
        "outputId": "b334d3de-e479-43cc-9dc2-19be28e23531"
      },
      "outputs": [
        {
          "data": {
            "image/png": "[encoded data removed]",
            "text/plain": [
              "<Figure size 1500x1000 with 6 Axes>"
            ]
          },
          "metadata": {},
          "output_type": "display_data"
        }
      ],
      "source": [
        "fig, ((ax1, ax2, ax3), (ax4, ax5, ax6)) = plt.subplots(2, 3, figsize=(15, 10))\n",
        "sns.histplot(X_train['temperature'], ax= ax1)\n",
        "sns.histplot(X_train['dry_days'], ax= ax2)\n",
        "sns.histplot(X_train['precipitation'], ax= ax3)\n",
        "\n",
        "\n",
        "sns.boxplot(data = X_train, x= 'temperature', ax=ax4)\n",
        "sns.boxplot(data = X_train, x= 'dry_days', ax=ax5)\n",
        "sns.boxplot(data = X_train, x= 'precipitation', ax=ax6);"
      ]
    },
    {
      "attachments": {},
      "cell_type": "markdown",
      "metadata": {
        "id": "sMnZM9umfpbG"
      },
      "source": [
        "tas and maxtas seem to have normal distribution but there are some outliers so I am using RobustScaler on all three"
      ]
    },
    {
      "cell_type": "code",
      "execution_count": 31,
      "metadata": {
        "id": "2bSosy0gfpbG",
        "outputId": "fc00990c-fb79-4205-9d02-98b78898f2fc"
      },
      "outputs": [
        {
          "data": {
            "text/html": [
              "<div>\n",
              "<style scoped>\n",
              "    .dataframe tbody tr th:only-of-type {\n",
              "        vertical-align: middle;\n",
              "    }\n",
              "\n",
              "    .dataframe tbody tr th {\n",
              "        vertical-align: top;\n",
              "    }\n",
              "\n",
              "    .dataframe thead th {\n",
              "        text-align: right;\n",
              "    }\n",
              "</style>\n",
              "<table border=\"1\" class=\"dataframe\">\n",
              "  <thead>\n",
              "    <tr style=\"text-align: right;\">\n",
              "      <th></th>\n",
              "      <th>year</th>\n",
              "      <th>burnable_frac</th>\n",
              "      <th>temperature</th>\n",
              "      <th>precipitation</th>\n",
              "      <th>dry_days</th>\n",
              "      <th>land_cover</th>\n",
              "      <th>country</th>\n",
              "      <th>x</th>\n",
              "      <th>y</th>\n",
              "      <th>month_sin</th>\n",
              "      <th>month_cos</th>\n",
              "    </tr>\n",
              "  </thead>\n",
              "  <tbody>\n",
              "    <tr>\n",
              "      <th>0</th>\n",
              "      <td>7</td>\n",
              "      <td>0.585473</td>\n",
              "      <td>-1.342652</td>\n",
              "      <td>-0.314196</td>\n",
              "      <td>1.013571</td>\n",
              "      <td>60</td>\n",
              "      <td>ایران</td>\n",
              "      <td>0.287088</td>\n",
              "      <td>-0.910904</td>\n",
              "      <td>-2.449294e-16</td>\n",
              "      <td>1.000000e+00</td>\n",
              "    </tr>\n",
              "    <tr>\n",
              "      <th>1</th>\n",
              "      <td>11</td>\n",
              "      <td>0.990091</td>\n",
              "      <td>-1.075527</td>\n",
              "      <td>-0.113051</td>\n",
              "      <td>-0.683109</td>\n",
              "      <td>10</td>\n",
              "      <td>Україна</td>\n",
              "      <td>-0.338279</td>\n",
              "      <td>-0.940919</td>\n",
              "      <td>1.000000e+00</td>\n",
              "      <td>6.123234e-17</td>\n",
              "    </tr>\n",
              "    <tr>\n",
              "      <th>2</th>\n",
              "      <td>6</td>\n",
              "      <td>0.998015</td>\n",
              "      <td>-0.948995</td>\n",
              "      <td>2.003547</td>\n",
              "      <td>0.235239</td>\n",
              "      <td>60</td>\n",
              "      <td>Hrvatska</td>\n",
              "      <td>-0.051925</td>\n",
              "      <td>0.010957</td>\n",
              "      <td>8.660254e-01</td>\n",
              "      <td>5.000000e-01</td>\n",
              "    </tr>\n",
              "    <tr>\n",
              "      <th>3</th>\n",
              "      <td>14</td>\n",
              "      <td>0.951067</td>\n",
              "      <td>0.274154</td>\n",
              "      <td>0.680102</td>\n",
              "      <td>-0.612044</td>\n",
              "      <td>10</td>\n",
              "      <td>Україна</td>\n",
              "      <td>-0.271643</td>\n",
              "      <td>-0.128709</td>\n",
              "      <td>1.224647e-16</td>\n",
              "      <td>-1.000000e+00</td>\n",
              "    </tr>\n",
              "    <tr>\n",
              "      <th>4</th>\n",
              "      <td>17</td>\n",
              "      <td>0.995599</td>\n",
              "      <td>0.105444</td>\n",
              "      <td>-0.412483</td>\n",
              "      <td>0.000000</td>\n",
              "      <td>100</td>\n",
              "      <td>España</td>\n",
              "      <td>0.369707</td>\n",
              "      <td>0.152659</td>\n",
              "      <td>-1.000000e+00</td>\n",
              "      <td>-1.836970e-16</td>\n",
              "    </tr>\n",
              "  </tbody>\n",
              "</table>\n",
              "</div>"
            ],
            "text/plain": [
              "   year  burnable_frac  temperature  precipitation  dry_days  land_cover  \\\n",
              "0     7       0.585473    -1.342652      -0.314196  1.013571          60   \n",
              "1    11       0.990091    -1.075527      -0.113051 -0.683109          10   \n",
              "2     6       0.998015    -0.948995       2.003547  0.235239          60   \n",
              "3    14       0.951067     0.274154       0.680102 -0.612044          10   \n",
              "4    17       0.995599     0.105444      -0.412483  0.000000         100   \n",
              "\n",
              "    country         x         y     month_sin     month_cos  \n",
              "0     ایران  0.287088 -0.910904 -2.449294e-16  1.000000e+00  \n",
              "1   Україна -0.338279 -0.940919  1.000000e+00  6.123234e-17  \n",
              "2  Hrvatska -0.051925  0.010957  8.660254e-01  5.000000e-01  \n",
              "3   Україна -0.271643 -0.128709  1.224647e-16 -1.000000e+00  \n",
              "4    España  0.369707  0.152659 -1.000000e+00 -1.836970e-16  "
            ]
          },
          "execution_count": 31,
          "metadata": {},
          "output_type": "execute_result"
        }
      ],
      "source": [
        "rb_scaler = RobustScaler()\n",
        "X_train[['temperature', 'dry_days', 'precipitation']] = rb_scaler.fit_transform(X_train[['temperature', 'dry_days', 'precipitation']])\n",
        "X_test[['temperature', 'dry_days', 'precipitation']] = rb_scaler.transform(X_test[['temperature', 'dry_days', 'precipitation']])\n",
        "\n",
        "X_train.head()"
      ]
    },
    {
      "cell_type": "code",
      "execution_count": 32,
      "metadata": {
        "id": "_d0UaOQBfpbG",
        "outputId": "75bb4861-b720-4fd0-d7ff-66c07c9949fd"
      },
      "outputs": [
        {
          "data": {
            "image/png": "[encoded data removed]",
            "text/plain": [
              "<Figure size 1500x1000 with 6 Axes>"
            ]
          },
          "metadata": {},
          "output_type": "display_data"
        }
      ],
      "source": [
        "fig, ((ax1, ax2, ax3), (ax4, ax5, ax6)) = plt.subplots(2, 3, figsize=(15, 10))\n",
        "sns.histplot(X_train['temperature'], ax= ax1)\n",
        "sns.histplot(X_train['dry_days'], ax= ax2)\n",
        "sns.histplot(X_train['precipitation'], ax= ax3)\n",
        "\n",
        "sns.boxplot(data = X_train, x= 'temperature', ax=ax4)\n",
        "sns.boxplot(data = X_train, x= 'dry_days', ax=ax5)\n",
        "sns.boxplot(data = X_train, x= 'precipitation', ax=ax6);"
      ]
    },
    {
      "attachments": {},
      "cell_type": "markdown",
      "metadata": {
        "id": "k8gRYiSwfpbH"
      },
      "source": [
        "data is rescaled"
      ]
    },
    {
      "attachments": {},
      "cell_type": "markdown",
      "metadata": {},
      "source": [
        "## Country"
      ]
    },
    {
      "cell_type": "code",
      "execution_count": 33,
      "metadata": {},
      "outputs": [
        {
          "data": {
            "text/html": [
              "<div>\n",
              "<style scoped>\n",
              "    .dataframe tbody tr th:only-of-type {\n",
              "        vertical-align: middle;\n",
              "    }\n",
              "\n",
              "    .dataframe tbody tr th {\n",
              "        vertical-align: top;\n",
              "    }\n",
              "\n",
              "    .dataframe thead th {\n",
              "        text-align: right;\n",
              "    }\n",
              "</style>\n",
              "<table border=\"1\" class=\"dataframe\">\n",
              "  <thead>\n",
              "    <tr style=\"text-align: right;\">\n",
              "      <th></th>\n",
              "      <th>year</th>\n",
              "      <th>burnable_frac</th>\n",
              "      <th>temperature</th>\n",
              "      <th>precipitation</th>\n",
              "      <th>dry_days</th>\n",
              "      <th>land_cover</th>\n",
              "      <th>x</th>\n",
              "      <th>y</th>\n",
              "      <th>month_sin</th>\n",
              "      <th>month_cos</th>\n",
              "      <th>...</th>\n",
              "      <th>country_Україна</th>\n",
              "      <th>country_Қазақстан</th>\n",
              "      <th>country_Հայաստան</th>\n",
              "      <th>country_العراق</th>\n",
              "      <th>country_ایران</th>\n",
              "      <th>country_تونس</th>\n",
              "      <th>country_سوريا</th>\n",
              "      <th>country_لبنان</th>\n",
              "      <th>country_საქართველო</th>\n",
              "      <th>country_ⵍⵣⵣⴰⵢⴻⵔ / الجزائر</th>\n",
              "    </tr>\n",
              "  </thead>\n",
              "  <tbody>\n",
              "    <tr>\n",
              "      <th>0</th>\n",
              "      <td>7</td>\n",
              "      <td>0.585473</td>\n",
              "      <td>-1.342652</td>\n",
              "      <td>-0.314196</td>\n",
              "      <td>1.013571</td>\n",
              "      <td>60</td>\n",
              "      <td>0.287088</td>\n",
              "      <td>-0.910904</td>\n",
              "      <td>-2.449294e-16</td>\n",
              "      <td>1.000000e+00</td>\n",
              "      <td>...</td>\n",
              "      <td>0.0</td>\n",
              "      <td>0.0</td>\n",
              "      <td>0.0</td>\n",
              "      <td>0.0</td>\n",
              "      <td>1.0</td>\n",
              "      <td>0.0</td>\n",
              "      <td>0.0</td>\n",
              "      <td>0.0</td>\n",
              "      <td>0.0</td>\n",
              "      <td>0.0</td>\n",
              "    </tr>\n",
              "    <tr>\n",
              "      <th>1</th>\n",
              "      <td>11</td>\n",
              "      <td>0.990091</td>\n",
              "      <td>-1.075527</td>\n",
              "      <td>-0.113051</td>\n",
              "      <td>-0.683109</td>\n",
              "      <td>10</td>\n",
              "      <td>-0.338279</td>\n",
              "      <td>-0.940919</td>\n",
              "      <td>1.000000e+00</td>\n",
              "      <td>6.123234e-17</td>\n",
              "      <td>...</td>\n",
              "      <td>1.0</td>\n",
              "      <td>0.0</td>\n",
              "      <td>0.0</td>\n",
              "      <td>0.0</td>\n",
              "      <td>0.0</td>\n",
              "      <td>0.0</td>\n",
              "      <td>0.0</td>\n",
              "      <td>0.0</td>\n",
              "      <td>0.0</td>\n",
              "      <td>0.0</td>\n",
              "    </tr>\n",
              "    <tr>\n",
              "      <th>2</th>\n",
              "      <td>6</td>\n",
              "      <td>0.998015</td>\n",
              "      <td>-0.948995</td>\n",
              "      <td>2.003547</td>\n",
              "      <td>0.235239</td>\n",
              "      <td>60</td>\n",
              "      <td>-0.051925</td>\n",
              "      <td>0.010957</td>\n",
              "      <td>8.660254e-01</td>\n",
              "      <td>5.000000e-01</td>\n",
              "      <td>...</td>\n",
              "      <td>0.0</td>\n",
              "      <td>0.0</td>\n",
              "      <td>0.0</td>\n",
              "      <td>0.0</td>\n",
              "      <td>0.0</td>\n",
              "      <td>0.0</td>\n",
              "      <td>0.0</td>\n",
              "      <td>0.0</td>\n",
              "      <td>0.0</td>\n",
              "      <td>0.0</td>\n",
              "    </tr>\n",
              "    <tr>\n",
              "      <th>3</th>\n",
              "      <td>14</td>\n",
              "      <td>0.951067</td>\n",
              "      <td>0.274154</td>\n",
              "      <td>0.680102</td>\n",
              "      <td>-0.612044</td>\n",
              "      <td>10</td>\n",
              "      <td>-0.271643</td>\n",
              "      <td>-0.128709</td>\n",
              "      <td>1.224647e-16</td>\n",
              "      <td>-1.000000e+00</td>\n",
              "      <td>...</td>\n",
              "      <td>1.0</td>\n",
              "      <td>0.0</td>\n",
              "      <td>0.0</td>\n",
              "      <td>0.0</td>\n",
              "      <td>0.0</td>\n",
              "      <td>0.0</td>\n",
              "      <td>0.0</td>\n",
              "      <td>0.0</td>\n",
              "      <td>0.0</td>\n",
              "      <td>0.0</td>\n",
              "    </tr>\n",
              "    <tr>\n",
              "      <th>4</th>\n",
              "      <td>17</td>\n",
              "      <td>0.995599</td>\n",
              "      <td>0.105444</td>\n",
              "      <td>-0.412483</td>\n",
              "      <td>0.000000</td>\n",
              "      <td>100</td>\n",
              "      <td>0.369707</td>\n",
              "      <td>0.152659</td>\n",
              "      <td>-1.000000e+00</td>\n",
              "      <td>-1.836970e-16</td>\n",
              "      <td>...</td>\n",
              "      <td>0.0</td>\n",
              "      <td>0.0</td>\n",
              "      <td>0.0</td>\n",
              "      <td>0.0</td>\n",
              "      <td>0.0</td>\n",
              "      <td>0.0</td>\n",
              "      <td>0.0</td>\n",
              "      <td>0.0</td>\n",
              "      <td>0.0</td>\n",
              "      <td>0.0</td>\n",
              "    </tr>\n",
              "  </tbody>\n",
              "</table>\n",
              "<p>5 rows × 56 columns</p>\n",
              "</div>"
            ],
            "text/plain": [
              "   year  burnable_frac  temperature  precipitation  dry_days  land_cover  \\\n",
              "0     7       0.585473    -1.342652      -0.314196  1.013571          60   \n",
              "1    11       0.990091    -1.075527      -0.113051 -0.683109          10   \n",
              "2     6       0.998015    -0.948995       2.003547  0.235239          60   \n",
              "3    14       0.951067     0.274154       0.680102 -0.612044          10   \n",
              "4    17       0.995599     0.105444      -0.412483  0.000000         100   \n",
              "\n",
              "          x         y     month_sin     month_cos  ...  country_Україна  \\\n",
              "0  0.287088 -0.910904 -2.449294e-16  1.000000e+00  ...              0.0   \n",
              "1 -0.338279 -0.940919  1.000000e+00  6.123234e-17  ...              1.0   \n",
              "2 -0.051925  0.010957  8.660254e-01  5.000000e-01  ...              0.0   \n",
              "3 -0.271643 -0.128709  1.224647e-16 -1.000000e+00  ...              1.0   \n",
              "4  0.369707  0.152659 -1.000000e+00 -1.836970e-16  ...              0.0   \n",
              "\n",
              "   country_Қазақстан  country_Հայաստան  country_العراق  country_ایران  \\\n",
              "0                0.0               0.0             0.0            1.0   \n",
              "1                0.0               0.0             0.0            0.0   \n",
              "2                0.0               0.0             0.0            0.0   \n",
              "3                0.0               0.0             0.0            0.0   \n",
              "4                0.0               0.0             0.0            0.0   \n",
              "\n",
              "   country_تونس  country_سوريا  country_لبنان  country_საქართველო  \\\n",
              "0           0.0            0.0            0.0                 0.0   \n",
              "1           0.0            0.0            0.0                 0.0   \n",
              "2           0.0            0.0            0.0                 0.0   \n",
              "3           0.0            0.0            0.0                 0.0   \n",
              "4           0.0            0.0            0.0                 0.0   \n",
              "\n",
              "   country_ⵍⵣⵣⴰⵢⴻⵔ / الجزائر  \n",
              "0                        0.0  \n",
              "1                        0.0  \n",
              "2                        0.0  \n",
              "3                        0.0  \n",
              "4                        0.0  \n",
              "\n",
              "[5 rows x 56 columns]"
            ]
          },
          "execution_count": 33,
          "metadata": {},
          "output_type": "execute_result"
        }
      ],
      "source": [
        "ohe = OneHotEncoder(sparse = False) \n",
        "\n",
        "ohe.fit(X_train[['country']])\n",
        "X_train[ohe.get_feature_names_out()] = ohe.transform(X_train[['country']])\n",
        "X_train.drop(columns = [\"country\"], inplace = True)\n",
        "\n",
        "X_test[ohe.get_feature_names_out()] = ohe.transform(X_test[['country']])\n",
        "X_test.drop(columns = [\"country\"], inplace = True)\n",
        "\n",
        "\n",
        "X_train.head()"
      ]
    },
    {
      "attachments": {},
      "cell_type": "markdown",
      "metadata": {
        "id": "rHHlhrApfpbH"
      },
      "source": [
        "# fire data"
      ]
    },
    {
      "attachments": {},
      "cell_type": "markdown",
      "metadata": {
        "id": "H9auR9wTfpbH"
      },
      "source": [
        "### burnable_frac\n",
        "this is already in a range of 0 - 1"
      ]
    },
    {
      "cell_type": "code",
      "execution_count": 34,
      "metadata": {
        "id": "3TP_zdxIfpbH",
        "outputId": "1badbe48-b2c8-4684-feec-611bfc92b491"
      },
      "outputs": [
        {
          "data": {
            "image/png": "[encoded data removed]",
            "text/plain": [
              "<Figure size 1500x500 with 2 Axes>"
            ]
          },
          "metadata": {},
          "output_type": "display_data"
        }
      ],
      "source": [
        "fig, (ax1, ax2) = plt.subplots(1, 2, figsize=(15, 5))\n",
        "\n",
        "sns.histplot(X_train['burnable_frac'], ax= ax1)\n",
        "sns.boxplot(data = X_train, x= 'burnable_frac', ax=ax2);"
      ]
    },
    {
      "attachments": {},
      "cell_type": "markdown",
      "metadata": {
        "id": "oHTd_i8XfpbU"
      },
      "source": [
        "the distribution is not normal and there are outliers. I will perform Robust Scaer as well but not sure whether this is neccessary"
      ]
    },
    {
      "cell_type": "code",
      "execution_count": 35,
      "metadata": {
        "id": "Gw3_LVcyfpbU",
        "outputId": "fbbb0c6b-f480-458e-b84b-d98343658d77"
      },
      "outputs": [],
      "source": [
        "rb_scaler2 = RobustScaler()\n",
        "X_train[['burnable_frac']] = rb_scaler2.fit_transform(X_train[['burnable_frac']])\n",
        "X_test[['burnable_frac']] = rb_scaler2.transform(X_test[['burnable_frac']])"
      ]
    },
    {
      "cell_type": "code",
      "execution_count": 36,
      "metadata": {
        "id": "tkGZCWE0fpbV",
        "outputId": "8e78853d-1bc7-4d37-b5d7-1e00bad27a92"
      },
      "outputs": [
        {
          "data": {
            "image/png": "[encoded data removed]",
            "text/plain": [
              "<Figure size 1500x500 with 2 Axes>"
            ]
          },
          "metadata": {},
          "output_type": "display_data"
        }
      ],
      "source": [
        "fig, (ax1, ax2) = plt.subplots(1, 2, figsize=(15, 5))\n",
        "\n",
        "sns.histplot(X_train['burnable_frac'], ax= ax1)\n",
        "sns.boxplot(data = X_train, x= 'burnable_frac', ax=ax2);"
      ]
    },
    {
      "attachments": {},
      "cell_type": "markdown",
      "metadata": {
        "id": "mgEFBbi1fpbX"
      },
      "source": [
        "## landcover data"
      ]
    },
    {
      "cell_type": "code",
      "execution_count": 37,
      "metadata": {
        "id": "8eM7AGEvfpbX",
        "outputId": "e7bcfa78-25fb-41ff-a73d-11c4f93b96e7"
      },
      "outputs": [
        {
          "data": {
            "text/html": [
              "<div>\n",
              "<style scoped>\n",
              "    .dataframe tbody tr th:only-of-type {\n",
              "        vertical-align: middle;\n",
              "    }\n",
              "\n",
              "    .dataframe tbody tr th {\n",
              "        vertical-align: top;\n",
              "    }\n",
              "\n",
              "    .dataframe thead th {\n",
              "        text-align: right;\n",
              "    }\n",
              "</style>\n",
              "<table border=\"1\" class=\"dataframe\">\n",
              "  <thead>\n",
              "    <tr style=\"text-align: right;\">\n",
              "      <th></th>\n",
              "      <th>year</th>\n",
              "      <th>burnable_frac</th>\n",
              "      <th>temperature</th>\n",
              "      <th>precipitation</th>\n",
              "      <th>dry_days</th>\n",
              "      <th>land_cover</th>\n",
              "      <th>x</th>\n",
              "      <th>y</th>\n",
              "      <th>month_sin</th>\n",
              "      <th>month_cos</th>\n",
              "      <th>...</th>\n",
              "      <th>country_Україна</th>\n",
              "      <th>country_Қазақстан</th>\n",
              "      <th>country_Հայաստան</th>\n",
              "      <th>country_العراق</th>\n",
              "      <th>country_ایران</th>\n",
              "      <th>country_تونس</th>\n",
              "      <th>country_سوريا</th>\n",
              "      <th>country_لبنان</th>\n",
              "      <th>country_საქართველო</th>\n",
              "      <th>country_ⵍⵣⵣⴰⵢⴻⵔ / الجزائر</th>\n",
              "    </tr>\n",
              "  </thead>\n",
              "  <tbody>\n",
              "    <tr>\n",
              "      <th>0</th>\n",
              "      <td>7</td>\n",
              "      <td>-5.573993</td>\n",
              "      <td>-1.342652</td>\n",
              "      <td>-0.314196</td>\n",
              "      <td>1.013571</td>\n",
              "      <td>60</td>\n",
              "      <td>0.287088</td>\n",
              "      <td>-0.910904</td>\n",
              "      <td>-2.449294e-16</td>\n",
              "      <td>1.000000e+00</td>\n",
              "      <td>...</td>\n",
              "      <td>0.0</td>\n",
              "      <td>0.0</td>\n",
              "      <td>0.0</td>\n",
              "      <td>0.0</td>\n",
              "      <td>1.0</td>\n",
              "      <td>0.0</td>\n",
              "      <td>0.0</td>\n",
              "      <td>0.0</td>\n",
              "      <td>0.0</td>\n",
              "      <td>0.0</td>\n",
              "    </tr>\n",
              "    <tr>\n",
              "      <th>1</th>\n",
              "      <td>11</td>\n",
              "      <td>0.271694</td>\n",
              "      <td>-1.075527</td>\n",
              "      <td>-0.113051</td>\n",
              "      <td>-0.683109</td>\n",
              "      <td>10</td>\n",
              "      <td>-0.338279</td>\n",
              "      <td>-0.940919</td>\n",
              "      <td>1.000000e+00</td>\n",
              "      <td>6.123234e-17</td>\n",
              "      <td>...</td>\n",
              "      <td>1.0</td>\n",
              "      <td>0.0</td>\n",
              "      <td>0.0</td>\n",
              "      <td>0.0</td>\n",
              "      <td>0.0</td>\n",
              "      <td>0.0</td>\n",
              "      <td>0.0</td>\n",
              "      <td>0.0</td>\n",
              "      <td>0.0</td>\n",
              "      <td>0.0</td>\n",
              "    </tr>\n",
              "    <tr>\n",
              "      <th>2</th>\n",
              "      <td>6</td>\n",
              "      <td>0.386167</td>\n",
              "      <td>-0.948995</td>\n",
              "      <td>2.003547</td>\n",
              "      <td>0.235239</td>\n",
              "      <td>60</td>\n",
              "      <td>-0.051925</td>\n",
              "      <td>0.010957</td>\n",
              "      <td>8.660254e-01</td>\n",
              "      <td>5.000000e-01</td>\n",
              "      <td>...</td>\n",
              "      <td>0.0</td>\n",
              "      <td>0.0</td>\n",
              "      <td>0.0</td>\n",
              "      <td>0.0</td>\n",
              "      <td>0.0</td>\n",
              "      <td>0.0</td>\n",
              "      <td>0.0</td>\n",
              "      <td>0.0</td>\n",
              "      <td>0.0</td>\n",
              "      <td>0.0</td>\n",
              "    </tr>\n",
              "  </tbody>\n",
              "</table>\n",
              "<p>3 rows × 56 columns</p>\n",
              "</div>"
            ],
            "text/plain": [
              "   year  burnable_frac  temperature  precipitation  dry_days  land_cover  \\\n",
              "0     7      -5.573993    -1.342652      -0.314196  1.013571          60   \n",
              "1    11       0.271694    -1.075527      -0.113051 -0.683109          10   \n",
              "2     6       0.386167    -0.948995       2.003547  0.235239          60   \n",
              "\n",
              "          x         y     month_sin     month_cos  ...  country_Україна  \\\n",
              "0  0.287088 -0.910904 -2.449294e-16  1.000000e+00  ...              0.0   \n",
              "1 -0.338279 -0.940919  1.000000e+00  6.123234e-17  ...              1.0   \n",
              "2 -0.051925  0.010957  8.660254e-01  5.000000e-01  ...              0.0   \n",
              "\n",
              "   country_Қазақстан  country_Հայաստան  country_العراق  country_ایران  \\\n",
              "0                0.0               0.0             0.0            1.0   \n",
              "1                0.0               0.0             0.0            0.0   \n",
              "2                0.0               0.0             0.0            0.0   \n",
              "\n",
              "   country_تونس  country_سوريا  country_لبنان  country_საქართველო  \\\n",
              "0           0.0            0.0            0.0                 0.0   \n",
              "1           0.0            0.0            0.0                 0.0   \n",
              "2           0.0            0.0            0.0                 0.0   \n",
              "\n",
              "   country_ⵍⵣⵣⴰⵢⴻⵔ / الجزائر  \n",
              "0                        0.0  \n",
              "1                        0.0  \n",
              "2                        0.0  \n",
              "\n",
              "[3 rows x 56 columns]"
            ]
          },
          "execution_count": 37,
          "metadata": {},
          "output_type": "execute_result"
        }
      ],
      "source": [
        "X_train.head(3)"
      ]
    },
    {
      "attachments": {},
      "cell_type": "markdown",
      "metadata": {
        "id": "Ltv4kn_SfpbX"
      },
      "source": [
        "land_cover are classes so I use OneHot Encoder"
      ]
    },
    {
      "cell_type": "code",
      "execution_count": 38,
      "metadata": {
        "id": "aOOPKWVqfpbX",
        "outputId": "1cda7775-53b2-486c-9d7a-64dcf6c52df4"
      },
      "outputs": [
        {
          "ename": "",
          "evalue": "",
          "output_type": "error",
          "traceback": [
            "\u001b[1;31mCannot execute code, session has been disposed. Please try restarting the Kernel."
          ]
        },
        {
          "ename": "",
          "evalue": "",
          "output_type": "error",
          "traceback": [
            "\u001b[1;31mThe Kernel crashed while executing code in the the current cell or a previous cell. Please review the code in the cell(s) to identify a possible cause of the failure. Click <a href='https://aka.ms/vscodeJupyterKernelCrash'>here</a> for more info. View Jupyter <a href='command:jupyter.viewOutput'>log</a> for further details."
          ]
        }
      ],
      "source": [
        "ohe = OneHotEncoder(sparse = False) \n",
        "\n",
        "ohe.fit(X_train[['land_cover']])\n",
        "X_train[ohe.get_feature_names_out()] = ohe.transform(X_train[['land_cover']])\n",
        "X_train.drop(columns = [\"land_cover\"], inplace = True)\n",
        "\n",
        "X_test[ohe.get_feature_names_out()] = ohe.transform(X_test[['land_cover']])\n",
        "X_test.drop(columns = [\"land_cover\"], inplace = True)\n",
        "\n",
        "\n",
        "X_train.head()"
      ]
    },
    {
      "attachments": {},
      "cell_type": "markdown",
      "metadata": {
        "id": "LWHQck8UfpbW"
      },
      "source": [
        "### burned area"
      ]
    },
    {
      "attachments": {},
      "cell_type": "markdown",
      "metadata": {},
      "source": [
        "already 0 and 1 so no need for an encoder"
      ]
    },
    {
      "cell_type": "code",
      "execution_count": null,
      "metadata": {},
      "outputs": [],
      "source": [
        "y_train.head()"
      ]
    },
    {
      "attachments": {},
      "cell_type": "markdown",
      "metadata": {},
      "source": [
        "# Reducing data size"
      ]
    },
    {
      "attachments": {},
      "cell_type": "markdown",
      "metadata": {},
      "source": [
        "train data"
      ]
    },
    {
      "cell_type": "code",
      "execution_count": null,
      "metadata": {},
      "outputs": [],
      "source": [
        "# specify the columns to convert\n",
        "columns_to_convert = X_train.columns\n",
        "\n",
        "# loop over the columns and convert them to more memory-efficient data types\n",
        "for column in columns_to_convert:\n",
        "    if pd.api.types.is_integer_dtype(X_train[column]):\n",
        "        # check the maximum value in the column\n",
        "        max_value = X_train[column].max()\n",
        "        if max_value <= 2147483647:\n",
        "            # convert the column to int32\n",
        "            X_train[column] = X_train[column].astype('int32')\n",
        "    elif pd.api.types.is_float_dtype(X_train[column]):\n",
        "        # check the range and precision of the values in the column\n",
        "        max_value = X_train[column].max()\n",
        "        std_value = X_train[column].std()\n",
        "        if max_value <= 3.4e38 and std_value >= 1.2e-7:\n",
        "            # convert the column to float32\n",
        "            X_train[column] = X_train[column].astype('float32')\n",
        "            \n",
        "y_train = y_train.astype('int32')\n"
      ]
    },
    {
      "attachments": {},
      "cell_type": "markdown",
      "metadata": {},
      "source": [
        "test data"
      ]
    },
    {
      "cell_type": "code",
      "execution_count": null,
      "metadata": {},
      "outputs": [],
      "source": [
        "# specify the columns to convert\n",
        "columns_to_convert = X_test.columns\n",
        "\n",
        "# loop over the columns and convert them to more memory-efficient data types\n",
        "for column in columns_to_convert:\n",
        "    if pd.api.types.is_integer_dtype(X_test[column]):\n",
        "        # check the maximum value in the column\n",
        "        max_value = X_test[column].max()\n",
        "        if max_value <= 2147483647:\n",
        "            # convert the column to int32\n",
        "            X_test[column] = X_test[column].astype('int32')\n",
        "    elif pd.api.types.is_float_dtype(X_test[column]):\n",
        "        # check the range and precision of the values in the column\n",
        "        max_value = X_test[column].max()\n",
        "        std_value = X_test[column].std()\n",
        "        if max_value <= 3.4e38 and std_value >= 1.2e-7:\n",
        "            # convert the column to float32\n",
        "            X_test[column] = X_test[column].astype('float32')\n",
        "            \n",
        "y_test = y_test.astype('int32')\n"
      ]
    },
    {
      "attachments": {},
      "cell_type": "markdown",
      "metadata": {},
      "source": [
        "saving data"
      ]
    },
    {
      "cell_type": "code",
      "execution_count": null,
      "metadata": {},
      "outputs": [],
      "source": [
        "'''\n",
        "X_train.to_csv('../data/X_train.csv', index=False)\n",
        "y_train.to_csv('../data/y_train.csv', index=False)\n",
        "X_test.to_csv('../data/X_test.csv', index=False)\n",
        "y_test.to_csv('../data/y_test.csv', index=False)\n",
        "'''"
      ]
    }
  ],
  "metadata": {
    "accelerator": "GPU",
    "colab": {
      "gpuType": "T4",
      "provenance": []
    },
    "kernelspec": {
      "display_name": "Python 3",
      "name": "python3"
    },
    "language_info": {
      "codemirror_mode": {
        "name": "ipython",
        "version": 3
      },
      "file_extension": ".py",
      "mimetype": "text/x-python",
      "name": "python",
      "nbconvert_exporter": "python",
      "pygments_lexer": "ipython3",
      "version": "3.10.6"
    }
  },
  "nbformat": 4,
  "nbformat_minor": 0
}
